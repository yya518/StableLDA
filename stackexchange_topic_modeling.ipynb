{
 "cells": [
  {
   "cell_type": "code",
   "execution_count": 30,
   "id": "f5f60776",
   "metadata": {},
   "outputs": [],
   "source": [
    "import io\n",
    "import pandas as pd\n",
    "import gensim"
   ]
  },
  {
   "cell_type": "code",
   "execution_count": 2,
   "id": "fda2eb83",
   "metadata": {},
   "outputs": [],
   "source": [
    "from stability import *\n",
    "from stablelda import StableLDA"
   ]
  },
  {
   "cell_type": "markdown",
   "id": "3f6c2a9c",
   "metadata": {},
   "source": [
    "#### train a topic model of 25 topics on the stackexchange dataset using Stable LDA "
   ]
  },
  {
   "cell_type": "code",
   "execution_count": 10,
   "id": "1aa3c57d",
   "metadata": {},
   "outputs": [],
   "source": [
    "bow_file = 'data/stackexchange.bow'\n",
    "vocab_file = 'data/stackexchange.vocab'\n",
    "\n",
    "num_topics = 25\n",
    "num_words = 5000\n",
    "alpha, beta, eta = 1, 0.01, 1000\n",
    "epochs = 5\n",
    "rand_seed = 42\n",
    "output_dir = 'data/output/'"
   ]
  },
  {
   "cell_type": "code",
   "execution_count": 11,
   "id": "c88320de",
   "metadata": {},
   "outputs": [
    {
     "name": "stdout",
     "output_type": "stream",
     "text": [
      "--------running Stable LDA model----------\n",
      "--------- loading data ----------------\n",
      "./train -f data/stackexchange.bow -v data/stackexchange.vocab -c data/output/cluster.dat -z data/output/z.dat -t 25 -w 5000 -a 1 -b 0.01 -e 1000 -n 2 -r 42 -o data/output/\n",
      "game player plai server world team mode friend singl onlin\n",
      "alt look map imag appear img screen time enter red\n",
      "build citi ship space resourc unit train engin research explor\n",
      "new account updat avail origin access purchas free old releas\n",
      "strong differ chang charact base gener follow exampl requir allow\n",
      "place right area left awai wall jump room head door\n",
      "item armor equip chest inventori enchant slot potion gear craft\n",
      "set save file option steam open kbd click creat download\n",
      "control connect xbox support drive devic plai internet machin port\n",
      "need want start try run time abl second end turn\n",
      "block spawn water mob farm villag tree stone zombi plant\n",
      "power point increas number high health stat mean give valu\n",
      "bui gold upgrad store trade cost monei sell collect worth\n",
      "version mod instal window java client launcher program graphic jar\n",
      "possibl good get lot better wai make best usual pick\n",
      "like work know thing help think actual got peopl come\n",
      "code pre command minecraft type quot tag test score execut\n",
      "kill fight destroi mission die death dead quest guard care\n",
      "problem happen have fix issu caus bug result solut sound\n",
      "speed rate larg faster perform action improv benefit advantag compar\n",
      "level complet drop chanc unlock pokemon achiev card experi battl\n",
      "damag attack enemi effect hit weapon rang target shield shot\n",
      "button press move hold light direct posit track redston mous\n",
      "href rel noreferr nofollow blockquot src descript img sourc wiki\n",
      "wai answer question believ basic quest understand big fact method\n"
     ]
    }
   ],
   "source": [
    "stablelda = StableLDA(num_topics, num_words, alpha, beta, eta, rand_seed, output_dir)\n",
    "stablelda.train(bow_file, vocab_file, epochs)\n",
    "\n",
    "docs, vocab, theta, phi = load_topic_model_results(bow_file, vocab_file,\n",
    "                                                     output_dir+'theta.dat', output_dir+'phi.dat')\n",
    "tm = TopicModel(num_topics, theta, phi, docs, vocab)\n",
    "\n",
    "tm.print_top_n_words(10)"
   ]
  },
  {
   "cell_type": "markdown",
   "id": "eba00bda",
   "metadata": {},
   "source": [
    "#### compute model perplexity"
   ]
  },
  {
   "cell_type": "code",
   "execution_count": 12,
   "id": "d6025efb",
   "metadata": {},
   "outputs": [
    {
     "name": "stdout",
     "output_type": "stream",
     "text": [
      "compute likelihood\n",
      "likelihood: -15041245.50530322\n",
      "perplexity: 846.1708574906029\n"
     ]
    },
    {
     "data": {
      "text/plain": [
       "846.1708574906029"
      ]
     },
     "execution_count": 12,
     "metadata": {},
     "output_type": "execute_result"
    }
   ],
   "source": [
    "compute_perlexity(docs, theta, phi)"
   ]
  },
  {
   "cell_type": "markdown",
   "id": "d04c0add",
   "metadata": {},
   "source": [
    "#### compute model coherence.\n",
    "we use Gensim's coherence method. We need to prepare gensim_bow, and id2word"
   ]
  },
  {
   "cell_type": "code",
   "execution_count": 17,
   "id": "0809a708",
   "metadata": {},
   "outputs": [],
   "source": [
    "topics = tm.get_top_n_words(10)"
   ]
  },
  {
   "cell_type": "code",
   "execution_count": 31,
   "id": "0a2d5857",
   "metadata": {},
   "outputs": [],
   "source": [
    "#### read in raw text data -- used for windows-based topic coherence measure\n",
    "with io.open(bow_file, 'r', encoding='utf-8') as f:\n",
    "    texts = [line.split() for line in f.read().splitlines()]"
   ]
  },
  {
   "cell_type": "code",
   "execution_count": 32,
   "id": "191f41b2",
   "metadata": {},
   "outputs": [],
   "source": [
    "#### prepare gensim_bow and id2word\n",
    "id2word = gensim.corpora.Dictionary(texts)\n",
    "gensim_bow = [id2word.doc2bow(text) for text in texts]"
   ]
  },
  {
   "cell_type": "code",
   "execution_count": 33,
   "id": "4988a513",
   "metadata": {},
   "outputs": [
    {
     "name": "stdout",
     "output_type": "stream",
     "text": [
      "('topic coherence c_uci', 0.5956598849278567)\n"
     ]
    }
   ],
   "source": [
    "print('topic coherence c_uci', compute_coherence(gensim_bow, texts, id2word, topics, coherence_score='c_uci') )"
   ]
  },
  {
   "cell_type": "code",
   "execution_count": 34,
   "id": "e18502d8",
   "metadata": {},
   "outputs": [
    {
     "name": "stdout",
     "output_type": "stream",
     "text": [
      "('topic coherence c_v', 0.5854098401649387)\n"
     ]
    }
   ],
   "source": [
    "print('topic coherence c_v', compute_coherence(gensim_bow, texts, id2word, topics, coherence_score='c_v') )"
   ]
  },
  {
   "cell_type": "code",
   "execution_count": null,
   "id": "0b63aaf9",
   "metadata": {},
   "outputs": [],
   "source": []
  }
 ],
 "metadata": {
  "kernelspec": {
   "display_name": "myproject2",
   "language": "python",
   "name": "myproject2"
  },
  "language_info": {
   "codemirror_mode": {
    "name": "ipython",
    "version": 2
   },
   "file_extension": ".py",
   "mimetype": "text/x-python",
   "name": "python",
   "nbconvert_exporter": "python",
   "pygments_lexer": "ipython2",
   "version": "2.7.18"
  }
 },
 "nbformat": 4,
 "nbformat_minor": 5
}
