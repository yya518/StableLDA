{
 "cells": [
  {
   "cell_type": "markdown",
   "id": "c9c2c5ba",
   "metadata": {},
   "source": [
    "train stable LDA model on the stackexchange dataset -- number of topics 10"
   ]
  },
  {
   "cell_type": "code",
   "execution_count": 1,
   "id": "4d912a75",
   "metadata": {},
   "outputs": [],
   "source": [
    "from stability import *\n",
    "from stablelda import StableLDA\n",
    "import sys\n",
    "import os"
   ]
  },
  {
   "cell_type": "code",
   "execution_count": 2,
   "id": "3634eb17",
   "metadata": {},
   "outputs": [
    {
     "data": {
      "text/plain": [
       "0"
      ]
     },
     "execution_count": 2,
     "metadata": {},
     "output_type": "execute_result"
    }
   ],
   "source": [
    "bow_file = 'data/stackexchange.bow'\n",
    "vocab_file = 'data/stackexchange.vocab'\n",
    "\n",
    "num_topics = 10\n",
    "num_words = 5000\n",
    "alpha, beta, eta = 1, 0.01, 1000\n",
    "epochs = 5\n",
    "\n",
    "#os.system('mingw32-make') # windows\n",
    "os.system('make')          # linux"
   ]
  },
  {
   "cell_type": "markdown",
   "id": "95d6e9f9",
   "metadata": {},
   "source": [
    "train first model"
   ]
  },
  {
   "cell_type": "code",
   "execution_count": 3,
   "id": "a53e9b3b",
   "metadata": {},
   "outputs": [
    {
     "name": "stdout",
     "output_type": "stream",
     "text": [
      "--------running Stable LDA model----------\n",
      "--------- loading data ----------------\n",
      "./train -f data/stackexchange.bow -v data/stackexchange.vocab -c data/model1/cluster.dat -z data/model1/z.dat -t 10 -w 5000 -a 1 -b 0.01 -e 1000 -n 5 -r 42 -o data/model1/\n"
     ]
    }
   ],
   "source": [
    "output_dir = 'data/model1/'\n",
    "rand_seed = 42\n",
    "\n",
    "stablelda = StableLDA(num_topics, num_words, alpha, beta, eta, rand_seed, output_dir )\n",
    "stablelda.train(bow_file, vocab_file, epochs)\n",
    "\n",
    "docs, vocab, theta1, phi1 = load_topic_model_results(bow_file, vocab_file,\n",
    "                                                     output_dir+'theta.dat', output_dir+'phi.dat')\n",
    "tm1 = TopicModel(num_topics, theta1, phi1, docs, vocab)\n",
    "\n",
    "#tm1.print_top_n_words(10)"
   ]
  },
  {
   "cell_type": "markdown",
   "id": "fd483587",
   "metadata": {},
   "source": [
    "train second model"
   ]
  },
  {
   "cell_type": "code",
   "execution_count": 4,
   "id": "73d2368d",
   "metadata": {},
   "outputs": [
    {
     "name": "stdout",
     "output_type": "stream",
     "text": [
      "--------running Stable LDA model----------\n",
      "--------- loading data ----------------\n",
      "./train -f data/stackexchange.bow -v data/stackexchange.vocab -c data/model2/cluster.dat -z data/model2/z.dat -t 10 -w 5000 -a 1 -b 0.01 -e 1000 -n 5 -r 24 -o data/model2/\n"
     ]
    }
   ],
   "source": [
    "output_dir = 'data/model2/'\n",
    "rand_seed = 24\n",
    "\n",
    "stablelda = StableLDA(num_topics, num_words, alpha, beta, eta, rand_seed, output_dir )\n",
    "stablelda.train(bow_file, vocab_file, epochs)\n",
    "docs, vocab, theta2, phi2 = load_topic_model_results(bow_file, vocab_file,\n",
    "                                                     output_dir+'theta.dat', output_dir+'phi.dat')\n",
    "tm2 = TopicModel(num_topics, theta2, phi2, docs, vocab)\n",
    "\n",
    "#tm2.print_top_n_words(10)\n",
    "#print('----------------------------------------------')"
   ]
  },
  {
   "cell_type": "markdown",
   "id": "63ccc220",
   "metadata": {},
   "source": [
    "examine the topic model stability between two runs"
   ]
  },
  {
   "cell_type": "code",
   "execution_count": 5,
   "id": "ea6e2a6e",
   "metadata": {},
   "outputs": [
    {
     "name": "stdout",
     "output_type": "stream",
     "text": [
      "('doc topic stability:', 0.8593142580776231)\n",
      "('doc label stability:', 0.7111932929308575)\n",
      "('topic word stability:', 0.862660478552)\n",
      "('top 10 word stability:', 0.8699999999999999)\n"
     ]
    }
   ],
   "source": [
    "alignment = model_alignment(tm1, tm2)\n",
    "#\n",
    "print('doc topic stability:', theta_stability(tm1, tm2, alignment))\n",
    "print('doc label stability:', doc_stability(tm1, tm2, alignment))\n",
    "print('topic word stability:', phi_stability(tm1, tm2, alignment))\n",
    "print('top 10 word stability:', topwords_stability(tm1, tm2, alignment))\n"
   ]
  },
  {
   "cell_type": "code",
   "execution_count": null,
   "id": "12673afb",
   "metadata": {},
   "outputs": [],
   "source": []
  },
  {
   "cell_type": "code",
   "execution_count": null,
   "id": "371bcee2",
   "metadata": {},
   "outputs": [],
   "source": []
  }
 ],
 "metadata": {
  "kernelspec": {
   "display_name": "myproject2",
   "language": "python",
   "name": "myproject2"
  },
  "language_info": {
   "codemirror_mode": {
    "name": "ipython",
    "version": 2
   },
   "file_extension": ".py",
   "mimetype": "text/x-python",
   "name": "python",
   "nbconvert_exporter": "python",
   "pygments_lexer": "ipython2",
   "version": "2.7.18"
  }
 },
 "nbformat": 4,
 "nbformat_minor": 5
}
